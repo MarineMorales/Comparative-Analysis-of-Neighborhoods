{
 "cells": [
  {
   "cell_type": "markdown",
   "id": "523e791c-a4a2-4f0f-a02c-17c11a471bae",
   "metadata": {},
   "source": [
    "# Comparative Analysis of Neighborhoods | Geolocation Data Preparation"
   ]
  },
  {
   "cell_type": "markdown",
   "id": "5757e25b-a546-490c-b1c5-4d0d19ee6bd4",
   "metadata": {},
   "source": [
    "We will use the following Geolocation APIs to locate our neighborhoods:\n",
    "- ArcGIS geocoder API: get latitude and longitude for specific postal codes combined with the city name.\n",
    "- Nominatim geocoder API: the OpenStreetMap geocoding service will help us find the geographical coordinates of the whole city we are investigating."
   ]
  },
  {
   "cell_type": "markdown",
   "id": "c3341e83-13dc-4107-a744-2d34d1f4d857",
   "metadata": {},
   "source": [
    "## [1] Working environment set up\n",
    "\n",
    "Before starting, we need to install and import libraries."
   ]
  },
  {
   "cell_type": "code",
   "execution_count": 1,
   "id": "54d1c3b3-e67f-48fd-babf-be845f6357df",
   "metadata": {
    "scrolled": true
   },
   "outputs": [
    {
     "name": "stdout",
     "output_type": "stream",
     "text": [
      "Requirement already satisfied: pandas in c:\\users\\marin\\appdata\\local\\programs\\python\\python312\\lib\\site-packages (2.2.2)\n",
      "Requirement already satisfied: numpy>=1.26.0 in c:\\users\\marin\\appdata\\local\\programs\\python\\python312\\lib\\site-packages (from pandas) (2.1.1)\n",
      "Requirement already satisfied: python-dateutil>=2.8.2 in c:\\users\\marin\\appdata\\local\\programs\\python\\python312\\lib\\site-packages (from pandas) (2.9.0.post0)\n",
      "Requirement already satisfied: pytz>=2020.1 in c:\\users\\marin\\appdata\\local\\programs\\python\\python312\\lib\\site-packages (from pandas) (2024.1)\n",
      "Requirement already satisfied: tzdata>=2022.7 in c:\\users\\marin\\appdata\\local\\programs\\python\\python312\\lib\\site-packages (from pandas) (2024.1)\n",
      "Requirement already satisfied: six>=1.5 in c:\\users\\marin\\appdata\\local\\programs\\python\\python312\\lib\\site-packages (from python-dateutil>=2.8.2->pandas) (1.16.0)\n",
      "Requirement already satisfied: geocoder in c:\\users\\marin\\appdata\\local\\programs\\python\\python312\\lib\\site-packages (1.38.1)\n",
      "Requirement already satisfied: click in c:\\users\\marin\\appdata\\local\\programs\\python\\python312\\lib\\site-packages (from geocoder) (8.1.7)\n",
      "Requirement already satisfied: future in c:\\users\\marin\\appdata\\local\\programs\\python\\python312\\lib\\site-packages (from geocoder) (1.0.0)\n",
      "Requirement already satisfied: ratelim in c:\\users\\marin\\appdata\\local\\programs\\python\\python312\\lib\\site-packages (from geocoder) (0.1.6)\n",
      "Requirement already satisfied: requests in c:\\users\\marin\\appdata\\local\\programs\\python\\python312\\lib\\site-packages (from geocoder) (2.32.3)\n",
      "Requirement already satisfied: six in c:\\users\\marin\\appdata\\local\\programs\\python\\python312\\lib\\site-packages (from geocoder) (1.16.0)\n",
      "Requirement already satisfied: colorama in c:\\users\\marin\\appdata\\local\\programs\\python\\python312\\lib\\site-packages (from click->geocoder) (0.4.6)\n",
      "Requirement already satisfied: decorator in c:\\users\\marin\\appdata\\local\\programs\\python\\python312\\lib\\site-packages (from ratelim->geocoder) (5.1.1)\n",
      "Requirement already satisfied: charset-normalizer<4,>=2 in c:\\users\\marin\\appdata\\local\\programs\\python\\python312\\lib\\site-packages (from requests->geocoder) (3.3.2)\n",
      "Requirement already satisfied: idna<4,>=2.5 in c:\\users\\marin\\appdata\\local\\programs\\python\\python312\\lib\\site-packages (from requests->geocoder) (3.7)\n",
      "Requirement already satisfied: urllib3<3,>=1.21.1 in c:\\users\\marin\\appdata\\local\\programs\\python\\python312\\lib\\site-packages (from requests->geocoder) (2.2.2)\n",
      "Requirement already satisfied: certifi>=2017.4.17 in c:\\users\\marin\\appdata\\local\\programs\\python\\python312\\lib\\site-packages (from requests->geocoder) (2024.7.4)\n",
      "Requirement already satisfied: geopy in c:\\users\\marin\\appdata\\local\\programs\\python\\python312\\lib\\site-packages (2.4.1)\n",
      "Requirement already satisfied: geographiclib<3,>=1.52 in c:\\users\\marin\\appdata\\local\\programs\\python\\python312\\lib\\site-packages (from geopy) (2.0)\n",
      "Libraries imported.\n"
     ]
    }
   ],
   "source": [
    "# Data Storage and File Handling\n",
    "import json\n",
    "\n",
    "# Data Manipulation and Processing\n",
    "!pip install pandas\n",
    "import pandas as pd\n",
    "\n",
    "# Geolocation and Mapping\n",
    "!pip install geocoder\n",
    "import geocoder\n",
    "!pip install geopy\n",
    "from geopy.geocoders import Nominatim \n",
    "\n",
    "# Miscellaneous\n",
    "import time\n",
    "\n",
    "print(\"Libraries imported.\")"
   ]
  },
  {
   "cell_type": "markdown",
   "id": "4e09f580-dcfd-471f-b04e-065065a18ccf",
   "metadata": {},
   "source": [
    "## [2] Data Collection\n",
    "\n",
    "Before starting, we need to open the wikipedia dataframe and dictionary."
   ]
  },
  {
   "cell_type": "code",
   "execution_count": 2,
   "id": "5b75d683-717c-4847-9972-6abf894c2178",
   "metadata": {},
   "outputs": [],
   "source": [
    "# Load from CSV file\n",
    "cities_df = pd.read_csv('wikipedia_df_output.csv', encoding='utf-8')"
   ]
  },
  {
   "cell_type": "code",
   "execution_count": 3,
   "id": "df363f09-8873-49ed-a6a5-d574ddefed14",
   "metadata": {},
   "outputs": [],
   "source": [
    "# Load from JSON file\n",
    "with open(\"wikipedia_dic_output.json\", \"r\") as f:\n",
    "    citiesinfo_dic = json.load(f)"
   ]
  },
  {
   "cell_type": "markdown",
   "id": "712a75ef-424b-4a9a-a5f7-040d2e387471",
   "metadata": {},
   "source": [
    "Then, we will get the longitude and latitude of our cities. To do so, we will use the Nominatim geolocator that is more adapted to larger locations. Indeed, the city is larger than the boroughs."
   ]
  },
  {
   "cell_type": "code",
   "execution_count": 4,
   "id": "b0d25949-2a3a-4ff3-ab51-6aabbe161985",
   "metadata": {},
   "outputs": [
    {
     "name": "stdout",
     "output_type": "stream",
     "text": [
      "The geographical coordinates of \"Quebec City, QC\" are Latitude: 46.8137431, Longitude: -71.2084061.\n",
      "The geographical coordinates of \"Montreal, QC\" are Latitude: 45.5031824, Longitude: -73.5698065.\n",
      "The geographical coordinates of \"Ottawa, ON\" are Latitude: 45.4208777, Longitude: -75.6901106.\n",
      "The geographical coordinates of \"Toronto, ON\" are Latitude: 43.6534817, Longitude: -79.3839347.\n",
      "The geographical coordinates of \"Vancouver, BC\" are Latitude: 49.2608724, Longitude: -123.113952.\n",
      "The geographical coordinates of \"Paris, France\" are Latitude: 48.8588897, Longitude: 2.3200410217200766.\n"
     ]
    }
   ],
   "source": [
    "# Initialize the geolocator\n",
    "geolocator = Nominatim(user_agent=\"myGeocoderproject4\")\n",
    "\n",
    "# Initialize lists in dictionary to store latitude and longitude\n",
    "citiesinfo_dic['latitude'] = []\n",
    "citiesinfo_dic['longitude'] = []\n",
    "\n",
    "# Iterate over each city in 'city2' for geolocation\n",
    "for city in citiesinfo_dic['city2']:\n",
    "    try:\n",
    "        # Fetch the location with a 5-second timeout\n",
    "        location = geolocator.geocode(city, timeout=5)\n",
    "        \n",
    "        # Store latitude and longitude or None if not found\n",
    "        latitude = location.latitude if location else None\n",
    "        longitude = location.longitude if location else None\n",
    "        \n",
    "        # Append the coordinates to the dictionary lists\n",
    "        citiesinfo_dic['latitude'].append(latitude)\n",
    "        citiesinfo_dic['longitude'].append(longitude)\n",
    "        \n",
    "        # Print the result for each city\n",
    "        if location:\n",
    "            print(f'The geographical coordinates of \"{city}\" are Latitude: {latitude}, Longitude: {longitude}.')\n",
    "        else:\n",
    "            print(f'Coordinates for \"{city}\" could not be found.')\n",
    "        \n",
    "        # Add a delay to avoid overloading the geocoding service\n",
    "        time.sleep(2)\n",
    "    \n",
    "    except Exception as e:\n",
    "        # Handle exceptions and append None for coordinates if there's an error\n",
    "        print(f\"An error occurred for city {city}: {e}\")\n",
    "        citiesinfo_dic['latitude'].append(None)\n",
    "        citiesinfo_dic['longitude'].append(None)"
   ]
  },
  {
   "cell_type": "markdown",
   "id": "5baa354a-0724-45d9-a1f4-0dca01c3613e",
   "metadata": {},
   "source": [
    "The OpenStreetMap geocoding service has been shut down for a while so I decided to create a back up with arcgis."
   ]
  },
  {
   "cell_type": "code",
   "execution_count": 5,
   "id": "61a4495e-136f-4b25-8648-df9baa81e3e0",
   "metadata": {},
   "outputs": [
    {
     "name": "stdout",
     "output_type": "stream",
     "text": [
      "The geographical coordinates of \"Quebec City, Quebec\" are Latitude: 46.812280000000044, Longitude: -71.21453999999994.\n",
      "The geographical coordinates of \"Montreal, Quebec\" are Latitude: 45.508867000000066, Longitude: -73.55424199999999.\n",
      "The geographical coordinates of \"Ottawa, Ontario\" are Latitude: 45.425226000000066, Longitude: -75.69996299999997.\n",
      "The geographical coordinates of \"Toronto, Ontario\" are Latitude: 43.65352400000006, Longitude: -79.38390699999997.\n",
      "The geographical coordinates of \"Vancouver, British Columbia\" are Latitude: 49.26163600000007, Longitude: -123.11334999999997.\n",
      "The geographical coordinates of \"Paris, France\" are Latitude: 48.86369757600005, Longitude: 2.3616573370000538.\n",
      "Geocoding completed.\n"
     ]
    }
   ],
   "source": [
    "# Initialize lists to store latitude and longitude\n",
    "citiesinfo_dic['latitude'] = []\n",
    "citiesinfo_dic['longitude'] = []\n",
    "\n",
    "# Iterate over each city in 'city2'\n",
    "for city in citiesinfo_dic['city1']:\n",
    "    try:\n",
    "        # Use ArcGIS to fetch latitude and longitude\n",
    "        g = geocoder.arcgis(city)\n",
    "        lati_long_coords = g.latlng\n",
    "\n",
    "        # Append the latitude and longitude or None if not found\n",
    "        if lati_long_coords:\n",
    "            latitude, longitude = lati_long_coords\n",
    "            citiesinfo_dic['latitude'].append(latitude)\n",
    "            citiesinfo_dic['longitude'].append(longitude)\n",
    "            print(f'The geographical coordinates of \"{city}\" are Latitude: {latitude}, Longitude: {longitude}.')\n",
    "        else:\n",
    "            citiesinfo_dic['latitude'].append(None)\n",
    "            citiesinfo_dic['longitude'].append(None)\n",
    "            print(f'Coordinates for \"{city}\" could not be found.')\n",
    "\n",
    "        # Add a delay to avoid overloading the geocoding service\n",
    "        time.sleep(1)\n",
    "\n",
    "    except Exception as e:\n",
    "        # Handle exceptions and append None for coordinates if there's an error\n",
    "        print(f\"An error occurred for city '{city}': {e}\")\n",
    "        citiesinfo_dic['latitude'].append(None)\n",
    "        citiesinfo_dic['longitude'].append(None)\n",
    "\n",
    "print(\"Geocoding completed.\")"
   ]
  },
  {
   "cell_type": "markdown",
   "id": "b16db00d-38bd-485d-86cc-5bfb7efe4d9e",
   "metadata": {},
   "source": [
    "Then, we will retrieve the longitudes and latitudes for each postal code in our city and add the data to our city dataframe. We will now use the arcgis geocoder that is more adapter to smaller and more precise locations."
   ]
  },
  {
   "cell_type": "code",
   "execution_count": 6,
   "id": "6cad05e0-f96d-4f5c-93bf-c6683d3ebea6",
   "metadata": {},
   "outputs": [],
   "source": [
    "# Create functions to retrieve coordinates with geocoder.arcgis for postal codes and neighborhoods\n",
    "def get_latilong_postalcode(postalcode, city):\n",
    "    lati_long_coords = None\n",
    "    while lati_long_coords is None:\n",
    "        # Use the city string in the geocoder query\n",
    "        g = geocoder.arcgis('{}, {}'.format(postalcode, city))\n",
    "        lati_long_coords = g.latlng\n",
    "        time.sleep(2)  # Add a delay between requests\n",
    "    return lati_long_coords\n",
    "\n",
    "def get_latilong_neighborhood(neighborhood, city):\n",
    "    lati_long_coords = None\n",
    "    while lati_long_coords is None:\n",
    "        g = geocoder.arcgis('{}, {}'.format(neighborhood, city))\n",
    "        lati_long_coords = g.latlng\n",
    "        time.sleep(2)\n",
    "    return lati_long_coords"
   ]
  },
  {
   "cell_type": "code",
   "execution_count": 7,
   "id": "e76fde1d-e297-45fe-aaef-803c3f32f511",
   "metadata": {},
   "outputs": [
    {
     "name": "stdout",
     "output_type": "stream",
     "text": [
      "The geographical coordinates for Quebec City, Quebec with postal code G3N are Latitude: 46.82439100000005, Longitude: -71.25270099999994.\n",
      "The geographical coordinates for Montreal, Quebec with postal code H3A are Latitude: 45.50534869300003, Longitude: -73.57705756099995.\n",
      "The geographical coordinates for Ottawa, Ontario with postal code K2C are Latitude: 45.375505469000075, Longitude: -75.70906227299997.\n",
      "The geographical coordinates for Toronto, Ontario with postal code M4G are Latitude: 43.70884486600005, Longitude: -79.36613953399996.\n",
      "The geographical coordinates for Vancouver, British Columbia with postal code V5A are Latitude: 49.26505536800005, Longitude: -122.93620847099999.\n",
      "The geographical coordinates for Paris, France with postal code 75003 are Latitude: 48.8637018, Longitude: 2.3610909.\n"
     ]
    }
   ],
   "source": [
    "# Test one of the functions with samples like a single postal code\n",
    "coordinates = []\n",
    "for city, test in zip(citiesinfo_dic['city1'], citiesinfo_dic['test1']):\n",
    "    try:\n",
    "        latitude, longitude = get_latilong_postalcode(test, city)\n",
    "        coordinates.append((latitude, longitude))  # Save coordinates in the list\n",
    "        print(f\"The geographical coordinates for {city} with postal code {test} are Latitude: {latitude}, Longitude: {longitude}.\")\n",
    "    except Exception as e:\n",
    "        coordinates.append((None, None))  # Save None for failed retrievals\n",
    "        print(f\"An error occurred for city '{city}' with postal code '{test}': {e}\")\n",
    "\n",
    "citiesinfo_dic['coordinates'] = coordinates"
   ]
  },
  {
   "cell_type": "code",
   "execution_count": 8,
   "id": "1928c99b-b661-401c-adfe-db7e2ff4e586",
   "metadata": {},
   "outputs": [],
   "source": [
    "# Retrieve latitude and longitude coordinates directly into new columns using using 'Postalcode' and 'City1'\n",
    "cities_df[['Latitude1', 'Longitude1']] = cities_df.apply(lambda row: get_latilong_postalcode(row['Postalcode'], row['City1']), axis=1, result_type='expand')"
   ]
  },
  {
   "cell_type": "code",
   "execution_count": 9,
   "id": "d0c0d49d-72d6-4378-98f5-f5918e85b42b",
   "metadata": {},
   "outputs": [],
   "source": [
    "# Retrieve latitude and longitude coordinates directly into new columns using 'Postalcode' and 'City2'\n",
    "cities_df[['Latitude2', 'Longitude2']] = cities_df.apply(lambda row: get_latilong_postalcode(row['Postalcode'], row['City2']), axis=1, result_type='expand')"
   ]
  },
  {
   "cell_type": "code",
   "execution_count": 10,
   "id": "72d1e900-b930-433d-b771-b60a3de3b8e6",
   "metadata": {},
   "outputs": [],
   "source": [
    "# Retrieve latitude and longitude coordinates directly into new columns using 'Borough' and 'City1'\n",
    "cities_df[['Latitude3', 'Longitude3']] = cities_df.apply(lambda row: get_latilong_neighborhood(row['Borough'], row['City1']), axis=1, result_type='expand')"
   ]
  },
  {
   "cell_type": "code",
   "execution_count": 11,
   "id": "10563834-9bab-46c1-ab87-dba108ae0de9",
   "metadata": {},
   "outputs": [],
   "source": [
    "# Retrieve latitude and longitude coordinates directly into new columns using 'Borough' and 'City2'.\n",
    "cities_df[['Latitude4', 'Longitude4']] = cities_df.apply(lambda row: get_latilong_neighborhood(row['Borough'], row['City2']), axis=1, result_type='expand')"
   ]
  },
  {
   "cell_type": "code",
   "execution_count": 12,
   "id": "3bd4ebf0-7c59-4be1-a7d1-4cef832160e8",
   "metadata": {},
   "outputs": [],
   "source": [
    "# Retrieve the most refined latitude and longitude coordinates by selecting the best results from the above methods\n",
    "cities_df['Latitude5'] = cities_df['Latitude1']\n",
    "cities_df['Longitude5'] = cities_df['Longitude1']\n",
    "\n",
    "# Iteratively flag duplicates and replace with higher-level data\n",
    "for level in range(2, 5):  # Levels 2, 3, 4\n",
    "    cities_df['IsDuplicate'] = cities_df.duplicated(subset=['Latitude5', 'Longitude5'], keep=False)\n",
    "    if level <= 4:\n",
    "        lat_col = f'Latitude{level}'\n",
    "        long_col = f'Longitude{level}'\n",
    "        mask = cities_df['IsDuplicate']\n",
    "        cities_df.loc[mask, ['Latitude5', 'Longitude5']] = cities_df.loc[mask, [lat_col, long_col]].values\n",
    "\n",
    "# Final re-flagging for duplicates after Level 4\n",
    "cities_df['IsDuplicate'] = cities_df.duplicated(subset=['Latitude5', 'Longitude5'], keep=False)"
   ]
  },
  {
   "cell_type": "code",
   "execution_count": 13,
   "id": "ca494ef2-bf6d-495c-9498-a0bea4fbaec5",
   "metadata": {},
   "outputs": [
    {
     "name": "stdout",
     "output_type": "stream",
     "text": [
      "\u001b[1m\u001b[4mProportion of Duplicated Coordinates Across Cities Within Each Search and Merged Results\u001b[0m\n",
      "\n",
      "As a reminder:\n",
      " - Search 1: by Postal Codes accross City1\n",
      " - Search 2: by Postal Codes accross City2\n",
      " - Search 3: by Neighborhoods accross City1\n",
      " - Search 4: by Neighborhoods accross City2\n",
      "\n"
     ]
    },
    {
     "data": {
      "text/html": [
       "<div>\n",
       "<style scoped>\n",
       "    .dataframe tbody tr th:only-of-type {\n",
       "        vertical-align: middle;\n",
       "    }\n",
       "\n",
       "    .dataframe tbody tr th {\n",
       "        vertical-align: top;\n",
       "    }\n",
       "\n",
       "    .dataframe thead th {\n",
       "        text-align: right;\n",
       "    }\n",
       "</style>\n",
       "<table border=\"1\" class=\"dataframe\">\n",
       "  <thead>\n",
       "    <tr style=\"text-align: right;\">\n",
       "      <th></th>\n",
       "      <th>City</th>\n",
       "      <th>Search 1</th>\n",
       "      <th>Search 2</th>\n",
       "      <th>Search 3</th>\n",
       "      <th>Search 4</th>\n",
       "      <th>Merged</th>\n",
       "      <th>Total Postal Codes</th>\n",
       "    </tr>\n",
       "  </thead>\n",
       "  <tbody>\n",
       "    <tr>\n",
       "      <th>0</th>\n",
       "      <td>Quebec City</td>\n",
       "      <td>92%</td>\n",
       "      <td>72%</td>\n",
       "      <td>60%</td>\n",
       "      <td>59%</td>\n",
       "      <td>40%</td>\n",
       "      <td>140</td>\n",
       "    </tr>\n",
       "    <tr>\n",
       "      <th>1</th>\n",
       "      <td>Montreal</td>\n",
       "      <td>7%</td>\n",
       "      <td>7%</td>\n",
       "      <td>82%</td>\n",
       "      <td>81%</td>\n",
       "      <td>5%</td>\n",
       "      <td>123</td>\n",
       "    </tr>\n",
       "    <tr>\n",
       "      <th>2</th>\n",
       "      <td>Ottawa</td>\n",
       "      <td>34%</td>\n",
       "      <td>38%</td>\n",
       "      <td>21%</td>\n",
       "      <td>21%</td>\n",
       "      <td>16%</td>\n",
       "      <td>84</td>\n",
       "    </tr>\n",
       "    <tr>\n",
       "      <th>3</th>\n",
       "      <td>Toronto</td>\n",
       "      <td>0%</td>\n",
       "      <td>0%</td>\n",
       "      <td>80%</td>\n",
       "      <td>80%</td>\n",
       "      <td>0%</td>\n",
       "      <td>97</td>\n",
       "    </tr>\n",
       "    <tr>\n",
       "      <th>4</th>\n",
       "      <td>Vancouver</td>\n",
       "      <td>59%</td>\n",
       "      <td>60%</td>\n",
       "      <td>77%</td>\n",
       "      <td>72%</td>\n",
       "      <td>36%</td>\n",
       "      <td>195</td>\n",
       "    </tr>\n",
       "    <tr>\n",
       "      <th>5</th>\n",
       "      <td>Paris</td>\n",
       "      <td>0%</td>\n",
       "      <td>0%</td>\n",
       "      <td>0%</td>\n",
       "      <td>0%</td>\n",
       "      <td>0%</td>\n",
       "      <td>20</td>\n",
       "    </tr>\n",
       "  </tbody>\n",
       "</table>\n",
       "</div>"
      ],
      "text/plain": [
       "          City Search 1 Search 2 Search 3 Search 4 Merged  Total Postal Codes\n",
       "0  Quebec City      92%      72%      60%      59%    40%                 140\n",
       "1     Montreal       7%       7%      82%      81%     5%                 123\n",
       "2       Ottawa      34%      38%      21%      21%    16%                  84\n",
       "3      Toronto       0%       0%      80%      80%     0%                  97\n",
       "4    Vancouver      59%      60%      77%      72%    36%                 195\n",
       "5        Paris       0%       0%       0%       0%     0%                  20"
      ]
     },
     "execution_count": 13,
     "metadata": {},
     "output_type": "execute_result"
    }
   ],
   "source": [
    "# Build a function to compute the number of duplicated coordinates for each city at each level\n",
    "def compute_duplicated(cities_df, levels):\n",
    "    # Initialize a dictionary to store results\n",
    "    results = {'City': citiesinfo_dic['city0']}\n",
    "    results_df = pd.DataFrame(results)\n",
    "\n",
    "    # Group by city and coordinates to count duplicates and merge the results together\n",
    "    for level in range(1, levels + 1):\n",
    "        coordinatescount_df = (cities_df.groupby(['City', f'Latitude{level}', f'Longitude{level}']).size().reset_index(name='Count'))\n",
    "        duplicatedcount_df = (coordinatescount_df[coordinatescount_df['Count'] > 1].groupby('City')['Count'].sum().reset_index().rename(columns={'Count': f'Search {level}'}))\n",
    "        results_df = pd.merge(results_df, duplicatedcount_df, on='City', how='left')\n",
    "    \n",
    "    # Add the total number of postal codes per city\n",
    "    totalpostalcodes_df = cities_df['City'].value_counts().reset_index()\n",
    "    totalpostalcodes_df.columns = ['City', 'Total Postal Codes']\n",
    "    results_df = pd.merge(results_df, totalpostalcodes_df, on='City', how='left')\n",
    "\n",
    "    # Calculate percentages for each level\n",
    "    for level in range(1, levels + 1):\n",
    "        results_df[f'{f'Search {level}'}'] = ((results_df[f'Search {level}'] / results_df['Total Postal Codes']) * 100).fillna(0).astype(int).astype(str) + '%'\n",
    "\n",
    "    # Return the results\n",
    "    results_df = results_df.rename(columns={'Search 5': f'Merged'})\n",
    "    return results_df\n",
    "\n",
    "# Compute the percentage of duplicates by level for each city\n",
    "duplicated_df = compute_duplicated(cities_df, 5)\n",
    "\n",
    "# Display the results\n",
    "print(\"\\033[1m\\033[4mProportion of Duplicated Coordinates Across Cities Within Each Search and Merged Results\\033[0m\\n\")\n",
    "print(f\"As a reminder:\\n - Search 1: by Postal Codes accross City1\\n - Search 2: by Postal Codes accross City2\\n - Search 3: by Neighborhoods accross City1\\n - Search 4: by Neighborhoods accross City2\\n\")\n",
    "duplicated_df"
   ]
  },
  {
   "cell_type": "markdown",
   "id": "8ca33a05-0958-478a-bc4f-6646de17c858",
   "metadata": {},
   "source": [
    "There is notable variability in duplication across geolocation methodologies, divided into four search categories based on distinct approaches: postal codes versus neighborhoods and naming conventions in City1 versus City2.\n",
    "\n",
    "- In Quebec City and Ottawa, the Postal Code based searches (Search 1 and 2) exhibit higher duplication compared to Neighborhood based searches (Search 3 and 4).\n",
    "- Conversely, in Montreal, Toronto, and Vancouver, neighborhood-based searches (Search 3 and 4) show higher duplication rates than Postal Code based searches (Search 1 and 2). \n",
    "\n",
    "After overlapping results from each methodology to minimize duplication, the \"Merged\" column displays a lower duplication percentage for most cities. We notice that the variability persists across geographic areas.\n",
    "\n",
    "- Quebec City and Vancouver show high duplication percentages, likely due to the dense clustering of postal codes or neighborhoods in these regions.\n",
    "- Montreal and Ottawa experienced significant duplication reduction during the merging process.\n",
    "- Toronto presents a unique case where Search 3 and 4 (neighborhoods) have an 80% duplication rate, while all other searches report 0%.\n",
    "- Paris stands out with 0% duplication across all searches, likely due to its precise and organized postal code system, minimizing geolocation overlap."
   ]
  },
  {
   "cell_type": "code",
   "execution_count": 14,
   "id": "097de5ab-dc88-47b9-a39b-c5d2a08e1a1d",
   "metadata": {},
   "outputs": [],
   "source": [
    "# Drop intermediate latitude/longitude columns and update the final merged results\n",
    "cities_df.drop(columns=[f'Latitude{i}' for i in range(1, 5)] + [f'Longitude{i}' for i in range(1, 5)], inplace=True, errors='ignore')\n",
    "cities_df.drop(columns=['IsDuplicate'])\n",
    "cities_df.rename(columns={'Latitude5': 'Latitude', 'Longitude5': 'Longitude'}, inplace=True)"
   ]
  },
  {
   "cell_type": "markdown",
   "id": "c2deac05-912b-4d42-ac66-ee5a34e49d53",
   "metadata": {},
   "source": [
    "## [3] Data Cleaning and Formatting\n",
    "\n",
    "As we proceed with our analysis using neighborhoods as keys, it's important to verify if any neighborhoods in our \"cities_df\" dataframe are associated with multiple postal codes. If such cases are found, we will update the neighborhood names by appending a cardinal direction suffix based on their relative positions to one another."
   ]
  },
  {
   "cell_type": "code",
   "execution_count": 15,
   "id": "8132d4a2-b09b-4080-beba-60796a6d8bdb",
   "metadata": {},
   "outputs": [
    {
     "name": "stdout",
     "output_type": "stream",
     "text": [
      "There are 94 neighborhoods with two or more different postal codes assigned.\n"
     ]
    },
    {
     "data": {
      "text/html": [
       "<div>\n",
       "<style scoped>\n",
       "    .dataframe tbody tr th:only-of-type {\n",
       "        vertical-align: middle;\n",
       "    }\n",
       "\n",
       "    .dataframe tbody tr th {\n",
       "        vertical-align: top;\n",
       "    }\n",
       "\n",
       "    .dataframe thead th {\n",
       "        text-align: right;\n",
       "    }\n",
       "</style>\n",
       "<table border=\"1\" class=\"dataframe\">\n",
       "  <thead>\n",
       "    <tr style=\"text-align: right;\">\n",
       "      <th></th>\n",
       "      <th>Postalcode</th>\n",
       "      <th>Borough</th>\n",
       "      <th>Neighborhood</th>\n",
       "      <th>City</th>\n",
       "      <th>City1</th>\n",
       "      <th>City2</th>\n",
       "      <th>Latitude</th>\n",
       "      <th>Longitude</th>\n",
       "      <th>IsDuplicate</th>\n",
       "    </tr>\n",
       "  </thead>\n",
       "  <tbody>\n",
       "    <tr>\n",
       "      <th>198</th>\n",
       "      <td>H2M</td>\n",
       "      <td>Ahuntsic</td>\n",
       "      <td>Ahuntsic East</td>\n",
       "      <td>Montreal</td>\n",
       "      <td>Montreal, Quebec</td>\n",
       "      <td>Montreal, QC</td>\n",
       "      <td>45.554532</td>\n",
       "      <td>-73.639078</td>\n",
       "      <td>False</td>\n",
       "    </tr>\n",
       "    <tr>\n",
       "      <th>155</th>\n",
       "      <td>H2C</td>\n",
       "      <td>Ahuntsic</td>\n",
       "      <td>Ahuntsic North</td>\n",
       "      <td>Montreal</td>\n",
       "      <td>Montreal, Quebec</td>\n",
       "      <td>Montreal, QC</td>\n",
       "      <td>45.560602</td>\n",
       "      <td>-73.658873</td>\n",
       "      <td>False</td>\n",
       "    </tr>\n",
       "    <tr>\n",
       "      <th>203</th>\n",
       "      <td>H2N</td>\n",
       "      <td>Ahuntsic</td>\n",
       "      <td>Ahuntsic South</td>\n",
       "      <td>Montreal</td>\n",
       "      <td>Montreal, Quebec</td>\n",
       "      <td>Montreal, QC</td>\n",
       "      <td>45.540904</td>\n",
       "      <td>-73.651166</td>\n",
       "      <td>False</td>\n",
       "    </tr>\n",
       "    <tr>\n",
       "      <th>193</th>\n",
       "      <td>H3L</td>\n",
       "      <td>Ahuntsic</td>\n",
       "      <td>Ahuntsic West</td>\n",
       "      <td>Montreal</td>\n",
       "      <td>Montreal, Quebec</td>\n",
       "      <td>Montreal, QC</td>\n",
       "      <td>45.546533</td>\n",
       "      <td>-73.672191</td>\n",
       "      <td>False</td>\n",
       "    </tr>\n",
       "    <tr>\n",
       "      <th>179</th>\n",
       "      <td>H1J</td>\n",
       "      <td>Anjou</td>\n",
       "      <td>Anjou North</td>\n",
       "      <td>Montreal</td>\n",
       "      <td>Montreal, Quebec</td>\n",
       "      <td>Montreal, QC</td>\n",
       "      <td>45.615959</td>\n",
       "      <td>-73.573361</td>\n",
       "      <td>False</td>\n",
       "    </tr>\n",
       "  </tbody>\n",
       "</table>\n",
       "</div>"
      ],
      "text/plain": [
       "    Postalcode   Borough    Neighborhood      City             City1  \\\n",
       "198        H2M  Ahuntsic   Ahuntsic East  Montreal  Montreal, Quebec   \n",
       "155        H2C  Ahuntsic  Ahuntsic North  Montreal  Montreal, Quebec   \n",
       "203        H2N  Ahuntsic  Ahuntsic South  Montreal  Montreal, Quebec   \n",
       "193        H3L  Ahuntsic   Ahuntsic West  Montreal  Montreal, Quebec   \n",
       "179        H1J     Anjou     Anjou North  Montreal  Montreal, Quebec   \n",
       "\n",
       "            City2   Latitude  Longitude  IsDuplicate  \n",
       "198  Montreal, QC  45.554532 -73.639078        False  \n",
       "155  Montreal, QC  45.560602 -73.658873        False  \n",
       "203  Montreal, QC  45.540904 -73.651166        False  \n",
       "193  Montreal, QC  45.546533 -73.672191        False  \n",
       "179  Montreal, QC  45.615959 -73.573361        False  "
      ]
     },
     "execution_count": 15,
     "metadata": {},
     "output_type": "execute_result"
    }
   ],
   "source": [
    "# Find duplicate neighborhoods based on 'Neighborhood'\n",
    "neighboroodduplicates_df = cities_df[cities_df.duplicated(subset=['Neighborhood'], keep=False)]\n",
    "\n",
    "if neighboroodduplicates_df.empty:\n",
    "    print('There are no duplicated neighborhoods in the cities_df dataframe.')\n",
    "else:\n",
    "    print(f'There are {neighboroodduplicates_df.shape[0]} neighborhoods with two or more different postal codes assigned.')\n",
    "    # Group by neighborhood to handle each neighborhood with multiple postal codes separately\n",
    "    for neighborhood, group in neighboroodduplicates_df.groupby('Neighborhood'):\n",
    "        \n",
    "        # Find the max/min values for latitude and longitude\n",
    "        max_latitude = group['Latitude'].max()\n",
    "        min_latitude = group['Latitude'].min()\n",
    "        max_longitude = group['Longitude'].max()\n",
    "        min_longitude = group['Longitude'].min()\n",
    "        \n",
    "        # Create a function to apply the cardinal directions to the neighborhoods\n",
    "        def assign_cardinal_direction(row):\n",
    "            if row['Latitude'] == max_latitude:\n",
    "                return f\"{row['Neighborhood']} North\"\n",
    "            elif row['Latitude'] == min_latitude:\n",
    "                return f\"{row['Neighborhood']} South\"\n",
    "            elif row['Longitude'] == max_longitude:\n",
    "                return f\"{row['Neighborhood']} East\"\n",
    "            elif row['Longitude'] == min_longitude:\n",
    "                return f\"{row['Neighborhood']} West\"\n",
    "            else:\n",
    "               return f\"{row['Neighborhood']} Center\"\n",
    "        \n",
    "        # Assign initial names with cardinal directions\n",
    "        group['Neighborhood'] = group.apply(assign_cardinal_direction, axis=1)\n",
    "        \n",
    "        # If duplicates remain, add ordinal suffixes\n",
    "        neighborhood_counts = group['Neighborhood'].value_counts()\n",
    "        for name, count in neighborhood_counts.items():\n",
    "            if count > 1:  # Only apply ordinal if there are duplicates\n",
    "                duplicates = group[group['Neighborhood'] == name]\n",
    "                unique_coords = duplicates[['Latitude', 'Longitude']].drop_duplicates()\n",
    "                if len(unique_coords) > 1:\n",
    "                    for i, idx in enumerate(duplicates.index, 1):\n",
    "                        group.at[idx, 'Neighborhood'] = f\"{name} {i}\"\n",
    "\n",
    "        # Update the neighborhood names in the original cities_df\n",
    "        cities_df.loc[group.index, 'Neighborhood'] = group['Neighborhood']\n",
    "\n",
    "# Print the updated DataFrame for duplicates, sorted by 'Neighborhood'\n",
    "cities_df.loc[neighboroodduplicates_df.index].sort_values(by=\"Neighborhood\").head()"
   ]
  },
  {
   "cell_type": "markdown",
   "id": "c1fbdaf6-4445-4174-87e2-f067c95ffd52",
   "metadata": {},
   "source": [
    "## [4] Saving"
   ]
  },
  {
   "cell_type": "code",
   "execution_count": 16,
   "id": "5232a2f9-bdb6-4206-8667-4e1b28935b6a",
   "metadata": {},
   "outputs": [
    {
     "name": "stdout",
     "output_type": "stream",
     "text": [
      "DataFrame saved as 'geolocation_df_output.csv'.\n"
     ]
    }
   ],
   "source": [
    "# Save the DataFrame to a CSV file with UTF-8 encoding\n",
    "cities_df.to_csv('geolocation_df_output.csv', index=False, encoding='utf-8')\n",
    "print(\"DataFrame saved as 'geolocation_df_output.csv'.\")"
   ]
  },
  {
   "cell_type": "code",
   "execution_count": 1,
   "id": "7d47abc5-0c34-421e-8586-83c49ded8135",
   "metadata": {},
   "outputs": [
    {
     "name": "stdout",
     "output_type": "stream",
     "text": [
      "Dictionary saved as 'geolocation_dic_output.json'.\n"
     ]
    }
   ],
   "source": [
    "# Save to JSON file\n",
    "with open(\"geolocation_dic_output.json\", \"w\") as f:\n",
    "    json.dump(citiesinfo_dic, f, indent=4)\n",
    "print(\"Dictionary saved as 'geolocation_dic_output.json'.\")"
   ]
  }
 ],
 "metadata": {
  "kernelspec": {
   "display_name": "Python 3 (ipykernel)",
   "language": "python",
   "name": "python3"
  },
  "language_info": {
   "codemirror_mode": {
    "name": "ipython",
    "version": 3
   },
   "file_extension": ".py",
   "mimetype": "text/x-python",
   "name": "python",
   "nbconvert_exporter": "python",
   "pygments_lexer": "ipython3",
   "version": "3.12.5"
  }
 },
 "nbformat": 4,
 "nbformat_minor": 5
}
